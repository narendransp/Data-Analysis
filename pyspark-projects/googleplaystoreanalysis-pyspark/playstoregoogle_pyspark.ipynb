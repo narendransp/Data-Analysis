{
 "cells": [
  {
   "cell_type": "markdown",
   "id": "bfd979c5-5cc8-4a71-8244-fc3250a269b6",
   "metadata": {},
   "source": [
    "<h2 style='color:blue'>Loading libraries</h2>"
   ]
  },
  {
   "cell_type": "code",
   "execution_count": 19,
   "id": "a0a21714-2c4a-489f-9591-a60cba523979",
   "metadata": {},
   "outputs": [],
   "source": [
    "import pyspark\n",
    "from pyspark.sql import SparkSession\n",
    "from pyspark.sql.types import StructType,StructField,StringType,IntegerType\n",
    "from pyspark.sql.functions import*"
   ]
  },
  {
   "cell_type": "markdown",
   "id": "90f162e9-990c-49d5-919b-c8c28f91acce",
   "metadata": {},
   "source": [
    "<h2 style='color:blue'>Creating DataFrame</h2>"
   ]
  },
  {
   "cell_type": "code",
   "execution_count": 23,
   "id": "17e88ba1-6d3f-485d-9170-d24f793b9ced",
   "metadata": {},
   "outputs": [],
   "source": [
    "from pyspark.sql import SparkSession\n",
    "\n",
    "# Create a Spark session\n",
    "spark = SparkSession.builder.appName(\"GooglePlayStoreAnalysis\").getOrCreate()"
   ]
  },
  {
   "cell_type": "code",
   "execution_count": 25,
   "id": "41a37ed4-5ee0-4c3f-9095-d16b51c1f80d",
   "metadata": {},
   "outputs": [
    {
     "data": {
      "text/html": [
       "\n",
       "            <div>\n",
       "                <p><b>SparkSession - in-memory</b></p>\n",
       "                \n",
       "        <div>\n",
       "            <p><b>SparkContext</b></p>\n",
       "\n",
       "            <p><a href=\"http://Home:4040\">Spark UI</a></p>\n",
       "\n",
       "            <dl>\n",
       "              <dt>Version</dt>\n",
       "                <dd><code>v3.5.4</code></dd>\n",
       "              <dt>Master</dt>\n",
       "                <dd><code>local[*]</code></dd>\n",
       "              <dt>AppName</dt>\n",
       "                <dd><code>GooglePlayStoreAnalysis</code></dd>\n",
       "            </dl>\n",
       "        </div>\n",
       "        \n",
       "            </div>\n",
       "        "
      ],
      "text/plain": [
       "<pyspark.sql.session.SparkSession at 0x26bbe7adca0>"
      ]
     },
     "execution_count": 25,
     "metadata": {},
     "output_type": "execute_result"
    }
   ],
   "source": [
    "spark"
   ]
  },
  {
   "cell_type": "code",
   "execution_count": 27,
   "id": "6671efe7-585d-4027-aeab-60dcb93da65b",
   "metadata": {},
   "outputs": [],
   "source": [
    "df=spark.read.load('googleplaystore.csv',format='csv',sep=',',header=True,escape='\"',inferschema='true')"
   ]
  },
  {
   "cell_type": "code",
   "execution_count": 29,
   "id": "3fcadfd6-6f61-4a3d-92d8-916c28df4f9d",
   "metadata": {},
   "outputs": [
    {
     "data": {
      "text/plain": [
       "10841"
      ]
     },
     "execution_count": 29,
     "metadata": {},
     "output_type": "execute_result"
    }
   ],
   "source": [
    "df.count()"
   ]
  },
  {
   "cell_type": "markdown",
   "id": "a6cc19b2-bc68-479d-b55c-7d1a1e4a73a3",
   "metadata": {},
   "source": [
    "<h2 style='color:blue'>Checking Schema</h2>"
   ]
  },
  {
   "cell_type": "code",
   "execution_count": 31,
   "id": "19455fcb-01be-48db-a2a6-549384821d05",
   "metadata": {},
   "outputs": [
    {
     "name": "stdout",
     "output_type": "stream",
     "text": [
      "root\n",
      " |-- App: string (nullable = true)\n",
      " |-- Category: string (nullable = true)\n",
      " |-- Rating: double (nullable = true)\n",
      " |-- Reviews: string (nullable = true)\n",
      " |-- Size: string (nullable = true)\n",
      " |-- Installs: string (nullable = true)\n",
      " |-- Type: string (nullable = true)\n",
      " |-- Price: string (nullable = true)\n",
      " |-- Content Rating: string (nullable = true)\n",
      " |-- Genres: string (nullable = true)\n",
      " |-- Last Updated: string (nullable = true)\n",
      " |-- Current Ver: string (nullable = true)\n",
      " |-- Android Ver: string (nullable = true)\n",
      "\n"
     ]
    }
   ],
   "source": [
    "df.printSchema()"
   ]
  },
  {
   "cell_type": "code",
   "execution_count": 34,
   "id": "28a19d49-0ee0-4196-aafa-579b6254b7d5",
   "metadata": {},
   "outputs": [
    {
     "data": {
      "text/plain": [
       "Row(App='Photo Editor & Candy Camera & Grid & ScrapBook', Category='ART_AND_DESIGN', Rating=4.1, Reviews='159', Size='19M', Installs='10,000+', Type='Free', Price='0', Content Rating='Everyone', Genres='Art & Design', Last Updated='January 7, 2018', Current Ver='1.0.0', Android Ver='4.0.3 and up')"
      ]
     },
     "execution_count": 34,
     "metadata": {},
     "output_type": "execute_result"
    }
   ],
   "source": [
    "df.head()"
   ]
  },
  {
   "cell_type": "code",
   "execution_count": 36,
   "id": "465ff3be-197b-47a3-bacb-07b76aef2f49",
   "metadata": {},
   "outputs": [],
   "source": [
    "df1=df.drop(\"size\",\"Content Rating\",\"Last Updated\",\"Android Ver\")"
   ]
  },
  {
   "cell_type": "code",
   "execution_count": 38,
   "id": "76f36237-c19c-4a72-80a7-0844617dcbc8",
   "metadata": {},
   "outputs": [
    {
     "name": "stdout",
     "output_type": "stream",
     "text": [
      "+--------------------+--------------+------+-------+-----------+----+-----+--------------------+------------------+\n",
      "|                 App|      Category|Rating|Reviews|   Installs|Type|Price|              Genres|       Current Ver|\n",
      "+--------------------+--------------+------+-------+-----------+----+-----+--------------------+------------------+\n",
      "|Photo Editor & Ca...|ART_AND_DESIGN|   4.1|    159|    10,000+|Free|    0|        Art & Design|             1.0.0|\n",
      "| Coloring book moana|ART_AND_DESIGN|   3.9|    967|   500,000+|Free|    0|Art & Design;Pret...|             2.0.0|\n",
      "|U Launcher Lite –...|ART_AND_DESIGN|   4.7|  87510| 5,000,000+|Free|    0|        Art & Design|             1.2.4|\n",
      "|Sketch - Draw & P...|ART_AND_DESIGN|   4.5| 215644|50,000,000+|Free|    0|        Art & Design|Varies with device|\n",
      "|Pixel Draw - Numb...|ART_AND_DESIGN|   4.3|    967|   100,000+|Free|    0|Art & Design;Crea...|               1.1|\n",
      "|Paper flowers ins...|ART_AND_DESIGN|   4.4|    167|    50,000+|Free|    0|        Art & Design|               1.0|\n",
      "|Smoke Effect Phot...|ART_AND_DESIGN|   3.8|    178|    50,000+|Free|    0|        Art & Design|               1.1|\n",
      "|    Infinite Painter|ART_AND_DESIGN|   4.1|  36815| 1,000,000+|Free|    0|        Art & Design|          6.1.61.1|\n",
      "|Garden Coloring Book|ART_AND_DESIGN|   4.4|  13791| 1,000,000+|Free|    0|        Art & Design|             2.9.2|\n",
      "|Kids Paint Free -...|ART_AND_DESIGN|   4.7|    121|    10,000+|Free|    0|Art & Design;Crea...|               2.8|\n",
      "|Text on Photo - F...|ART_AND_DESIGN|   4.4|  13880| 1,000,000+|Free|    0|        Art & Design|             1.0.4|\n",
      "|Name Art Photo Ed...|ART_AND_DESIGN|   4.4|   8788| 1,000,000+|Free|    0|        Art & Design|            1.0.15|\n",
      "|Tattoo Name On My...|ART_AND_DESIGN|   4.2|  44829|10,000,000+|Free|    0|        Art & Design|               3.8|\n",
      "|Mandala Coloring ...|ART_AND_DESIGN|   4.6|   4326|   100,000+|Free|    0|        Art & Design|             1.0.4|\n",
      "|3D Color Pixel by...|ART_AND_DESIGN|   4.4|   1518|   100,000+|Free|    0|        Art & Design|             1.2.3|\n",
      "|Learn To Draw Kaw...|ART_AND_DESIGN|   3.2|     55|     5,000+|Free|    0|        Art & Design|               NaN|\n",
      "|Photo Designer - ...|ART_AND_DESIGN|   4.7|   3632|   500,000+|Free|    0|        Art & Design|               3.1|\n",
      "|350 Diy Room Deco...|ART_AND_DESIGN|   4.5|     27|    10,000+|Free|    0|        Art & Design|               1.0|\n",
      "|FlipaClip - Carto...|ART_AND_DESIGN|   4.3| 194216| 5,000,000+|Free|    0|        Art & Design|             2.2.5|\n",
      "|        ibis Paint X|ART_AND_DESIGN|   4.6| 224399|10,000,000+|Free|    0|        Art & Design|             5.5.4|\n",
      "+--------------------+--------------+------+-------+-----------+----+-----+--------------------+------------------+\n",
      "only showing top 20 rows\n",
      "\n"
     ]
    }
   ],
   "source": [
    "df1.show()"
   ]
  },
  {
   "cell_type": "markdown",
   "id": "27c65b0f-f889-4323-87ca-572c1c3eef8c",
   "metadata": {},
   "source": [
    "<h2 style='color:blue'>Data Cleaning</h2>\n",
    "<h3>Removing'+' sympol using Regular Expression<br><br>\n",
    "Coverting Installs(string)to IntegerType<br><br>\n",
    "Removing'$' sympol using regular Expression<br><br>\n",
    "Coverting Price(string)to IntegerType</h3>"
   ]
  },
  {
   "cell_type": "code",
   "execution_count": 100,
   "id": "5d89a11e-d899-4a40-93f1-861f1b8d3e4b",
   "metadata": {},
   "outputs": [],
   "source": [
    "from pyspark.sql.functions import regexp_replace,col\n",
    "df2=df1.withColumn(\"Reviews\",col(\"Reviews\").cast(IntegerType()))\\\n",
    ".withColumn(\"Installs\",regexp_replace(col(\"Installs\"),\"[^0-9]\",\"\"))\\\n",
    ".withColumn(\"Installs\",col(\"Installs\").cast(IntegerType()))\\\n",
    ".withColumn(\"Price\",regexp_replace(col(\"Price\"),\"[$]\",\"\"))\\\n",
    ".withColumn(\"Price\",col(\"Price\").cast(IntegerType()))\n",
    "\n"
   ]
  },
  {
   "cell_type": "markdown",
   "id": "e7389706-8c2f-4685-b414-7fa93d1bf321",
   "metadata": {},
   "source": [
    "<h2 style='color:blue'>Data Analysis</h2>"
   ]
  },
  {
   "cell_type": "code",
   "execution_count": 72,
   "id": "4c6f3031-45dd-4100-a3c4-7a8c0f4d357a",
   "metadata": {},
   "outputs": [],
   "source": [
    "df2.createOrReplaceTempView(\"view1\")"
   ]
  },
  {
   "cell_type": "code",
   "execution_count": 74,
   "id": "be107ea0-b702-4748-ac0b-39e514cd05df",
   "metadata": {},
   "outputs": [
    {
     "name": "stdout",
     "output_type": "stream",
     "text": [
      "+--------------------+--------------+------+-------+--------+----+-----+--------------------+------------------+\n",
      "|                 App|      Category|Rating|Reviews|Installs|Type|Price|              Genres|       Current Ver|\n",
      "+--------------------+--------------+------+-------+--------+----+-----+--------------------+------------------+\n",
      "|Photo Editor & Ca...|ART_AND_DESIGN|   4.1|    159|   10000|Free|    0|        Art & Design|             1.0.0|\n",
      "| Coloring book moana|ART_AND_DESIGN|   3.9|    967|  500000|Free|    0|Art & Design;Pret...|             2.0.0|\n",
      "|U Launcher Lite –...|ART_AND_DESIGN|   4.7|  87510| 5000000|Free|    0|        Art & Design|             1.2.4|\n",
      "|Sketch - Draw & P...|ART_AND_DESIGN|   4.5| 215644|50000000|Free|    0|        Art & Design|Varies with device|\n",
      "|Pixel Draw - Numb...|ART_AND_DESIGN|   4.3|    967|  100000|Free|    0|Art & Design;Crea...|               1.1|\n",
      "|Paper flowers ins...|ART_AND_DESIGN|   4.4|    167|   50000|Free|    0|        Art & Design|               1.0|\n",
      "|Smoke Effect Phot...|ART_AND_DESIGN|   3.8|    178|   50000|Free|    0|        Art & Design|               1.1|\n",
      "|    Infinite Painter|ART_AND_DESIGN|   4.1|  36815| 1000000|Free|    0|        Art & Design|          6.1.61.1|\n",
      "|Garden Coloring Book|ART_AND_DESIGN|   4.4|  13791| 1000000|Free|    0|        Art & Design|             2.9.2|\n",
      "|Kids Paint Free -...|ART_AND_DESIGN|   4.7|    121|   10000|Free|    0|Art & Design;Crea...|               2.8|\n",
      "|Text on Photo - F...|ART_AND_DESIGN|   4.4|  13880| 1000000|Free|    0|        Art & Design|             1.0.4|\n",
      "|Name Art Photo Ed...|ART_AND_DESIGN|   4.4|   8788| 1000000|Free|    0|        Art & Design|            1.0.15|\n",
      "|Tattoo Name On My...|ART_AND_DESIGN|   4.2|  44829|10000000|Free|    0|        Art & Design|               3.8|\n",
      "|Mandala Coloring ...|ART_AND_DESIGN|   4.6|   4326|  100000|Free|    0|        Art & Design|             1.0.4|\n",
      "|3D Color Pixel by...|ART_AND_DESIGN|   4.4|   1518|  100000|Free|    0|        Art & Design|             1.2.3|\n",
      "|Learn To Draw Kaw...|ART_AND_DESIGN|   3.2|     55|    5000|Free|    0|        Art & Design|               NaN|\n",
      "|Photo Designer - ...|ART_AND_DESIGN|   4.7|   3632|  500000|Free|    0|        Art & Design|               3.1|\n",
      "|350 Diy Room Deco...|ART_AND_DESIGN|   4.5|     27|   10000|Free|    0|        Art & Design|               1.0|\n",
      "|FlipaClip - Carto...|ART_AND_DESIGN|   4.3| 194216| 5000000|Free|    0|        Art & Design|             2.2.5|\n",
      "|        ibis Paint X|ART_AND_DESIGN|   4.6| 224399|10000000|Free|    0|        Art & Design|             5.5.4|\n",
      "+--------------------+--------------+------+-------+--------+----+-----+--------------------+------------------+\n",
      "only showing top 20 rows\n",
      "\n"
     ]
    }
   ],
   "source": [
    "r0=spark.sql(\"select*from view1\")\n",
    "r0.show()"
   ]
  },
  {
   "cell_type": "markdown",
   "id": "4069c889-cc63-4a70-9230-ff8148783c6e",
   "metadata": {},
   "source": [
    "<h3>Top 10 apps with high reviews</h3>"
   ]
  },
  {
   "cell_type": "code",
   "execution_count": 80,
   "id": "7a2b2f60-fa2e-49d1-8d09-396ea432391e",
   "metadata": {},
   "outputs": [
    {
     "name": "stdout",
     "output_type": "stream",
     "text": [
      "+--------------------+------------+\n",
      "|                 App|sum(Reviews)|\n",
      "+--------------------+------------+\n",
      "|           Instagram|   266241989|\n",
      "|  WhatsApp Messenger|   207348304|\n",
      "|      Clash of Clans|   179558781|\n",
      "|Messenger – Text ...|   169932272|\n",
      "|      Subway Surfers|   166331958|\n",
      "|    Candy Crush Saga|   156993136|\n",
      "|            Facebook|   156286514|\n",
      "|         8 Ball Pool|    99386198|\n",
      "|        Clash Royale|    92530298|\n",
      "|            Snapchat|    68045010|\n",
      "+--------------------+------------+\n",
      "only showing top 10 rows\n",
      "\n"
     ]
    }
   ],
   "source": [
    "r1=spark.sql(\"select App,sum(Reviews) from view1 group by 1 order by 2 desc\")\n",
    "r1.show(10)"
   ]
  },
  {
   "cell_type": "markdown",
   "id": "331e9141-6889-41f6-8ba0-12eb13af43a1",
   "metadata": {},
   "source": [
    "<h3>Top 10 installed apps and distribution of type</h3>"
   ]
  },
  {
   "cell_type": "code",
   "execution_count": 87,
   "id": "d0453d1f-3643-44d5-b9d3-b5930c8edbb8",
   "metadata": {},
   "outputs": [
    {
     "name": "stdout",
     "output_type": "stream",
     "text": [
      "+------------------+----+-------------+\n",
      "|               App|Type|sum(Installs)|\n",
      "+------------------+----+-------------+\n",
      "|    Subway Surfers|Free|   6000000000|\n",
      "|         Instagram|Free|   4000000000|\n",
      "|      Google Drive|Free|   4000000000|\n",
      "|          Hangouts|Free|   4000000000|\n",
      "|     Google Photos|Free|   4000000000|\n",
      "|       Google News|Free|   4000000000|\n",
      "|  Candy Crush Saga|Free|   3500000000|\n",
      "|WhatsApp Messenger|Free|   3000000000|\n",
      "|             Gmail|Free|   3000000000|\n",
      "|      Temple Run 2|Free|   3000000000|\n",
      "+------------------+----+-------------+\n",
      "only showing top 10 rows\n",
      "\n"
     ]
    }
   ],
   "source": [
    "r2=spark.sql(\"select App,Type,sum(Installs) from view1 group by 1,2 order by 3 desc\")\n",
    "r2.show(10)"
   ]
  },
  {
   "cell_type": "markdown",
   "id": "9b6a2b33-ee20-4316-9050-8d48831b124d",
   "metadata": {},
   "source": [
    "<h3>Top 10 Paid Apps</h3>"
   ]
  },
  {
   "cell_type": "code",
   "execution_count": 93,
   "id": "4291bd75-3b3b-4f32-a348-9a843720bb10",
   "metadata": {},
   "outputs": [
    {
     "name": "stdout",
     "output_type": "stream",
     "text": [
      "+--------------------+----------+\n",
      "|                 App|sum(Price)|\n",
      "+--------------------+----------+\n",
      "|I'm Rich - Trump ...|       400|\n",
      "|most expensive ap...|       399|\n",
      "|           I am Rich|       399|\n",
      "|  I AM RICH PRO PLUS|       399|\n",
      "|  I am rich(premium)|       399|\n",
      "|      I am Rich Plus|       399|\n",
      "|I'm Rich/Eu sou R...|       399|\n",
      "|   I Am Rich Premium|       399|\n",
      "|       I Am Rich Pro|       399|\n",
      "|          I am Rich!|       399|\n",
      "+--------------------+----------+\n",
      "only showing top 10 rows\n",
      "\n"
     ]
    }
   ],
   "source": [
    "r3=spark.sql(\"select App,sum(Price) from view1  where Type='Paid' group by 1 order by 2 desc\")\n",
    "r3.show(10)"
   ]
  }
 ],
 "metadata": {
  "kernelspec": {
   "display_name": "Python 3 (ipykernel)",
   "language": "python",
   "name": "python3"
  },
  "language_info": {
   "codemirror_mode": {
    "name": "ipython",
    "version": 3
   },
   "file_extension": ".py",
   "mimetype": "text/x-python",
   "name": "python",
   "nbconvert_exporter": "python",
   "pygments_lexer": "ipython3",
   "version": "3.12.4"
  }
 },
 "nbformat": 4,
 "nbformat_minor": 5
}
